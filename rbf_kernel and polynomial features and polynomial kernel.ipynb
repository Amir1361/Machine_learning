{
 "cells": [
  {
   "cell_type": "code",
   "execution_count": 1,
   "metadata": {},
   "outputs": [
    {
     "name": "stderr",
     "output_type": "stream",
     "text": [
      "C:\\ProgramData\\Anaconda3\\lib\\site-packages\\sklearn\\externals\\joblib\\__init__.py:15: FutureWarning: sklearn.externals.joblib is deprecated in 0.21 and will be removed in 0.23. Please import this functionality directly from joblib, which can be installed with: pip install joblib. If this warning is raised when loading pickled models, you may need to re-serialize those models with scikit-learn 0.21+.\n",
      "  warnings.warn(msg, category=FutureWarning)\n",
      "C:\\ProgramData\\Anaconda3\\lib\\site-packages\\sklearn\\utils\\deprecation.py:144: FutureWarning: The sklearn.datasets.lfw module is  deprecated in version 0.22 and will be removed in version 0.24. The corresponding classes / functions should instead be imported from sklearn.datasets. Anything that cannot be imported from sklearn.datasets is now part of the private API.\n",
      "  warnings.warn(message, FutureWarning)\n"
     ]
    }
   ],
   "source": [
    "import pandas as pd\n",
    "import seaborn as sns\n",
    "import matplotlib.pyplot as plt\n",
    "import statsmodels.api as sm\n",
    "import statsmodels.formula.api as smf\n",
    "import numpy as np\n",
    "import math \n",
    "from collections import Counter\n",
    "from sklearn import datasets\n",
    "from sklearn.preprocessing import StandardScaler\n",
    "from sklearn.metrics import accuracy_score, recall_score, precision_score, f1_score\n",
    "from sklearn.linear_model import LogisticRegression\n",
    "from sklearn.model_selection import train_test_split , StratifiedKFold,KFold\n",
    "from sklearn.svm import SVC\n",
    "from sklearn import datasets, svm\n",
    "from sklearn.preprocessing import PolynomialFeatures\n",
    "from sklearn.model_selection import ParameterGrid\n",
    "import pandas as pd\n",
    "import sympy as sym\n",
    "import matplotlib.pyplot as plt\n",
    "import numpy as np\n",
    "from pylab import *\n",
    "import statsmodels.api as sm\n",
    "from scipy import misc\n",
    "from sympy import *\n",
    "from tabulate import tabulate\n",
    "from numpy import array, diag, dot, maximum, empty, repeat, ones, sum\n",
    "from numpy.linalg import inv\n",
    "from sklearn.datasets import load_digits\n",
    "import math \n",
    "from sklearn.model_selection import cross_val_score\n",
    "from sklearn.model_selection import RepeatedStratifiedKFold\n",
    "from sklearn.utils.class_weight import compute_class_weight\n",
    "import time\n",
    "import numpy as np\n",
    "import pandas as pd\n",
    "import matplotlib.pyplot as plt\n",
    "from sklearn.decomposition import PCA\n",
    "from sklearn import tree\n",
    "from sklearn.pipeline import Pipeline\n",
    "from sklearn.datasets import load_iris\n",
    "from sklearn.metrics import accuracy_score\n",
    "from sklearn.metrics import accuracy_score, classification_report, confusion_matrix\n",
    "from sklearn.preprocessing import StandardScaler\n",
    "from sklearn.linear_model import LogisticRegression\n",
    "from sklearn.model_selection import train_test_split\n",
    "from sklearn.model_selection import train_test_split , GridSearchCV\n",
    "from sklearn import datasets \n",
    "from time import time\n",
    "from sklearn.metrics import roc_curve, auc,pairwise\n",
    "from sklearn import datasets, svm\n",
    "from sklearn.svm import SVC\n",
    "from sklearn.datasets import make_circles, make_blobs, make_moons\n",
    "from grakel import Graph\n",
    "from grakel.kernels import NeighborhoodSubgraphPairwiseDistance\n",
    "from mpl_toolkits.mplot3d import Axes3D\n",
    "from itertools import cycle, islice\n",
    "import strkernel \n",
    "from sklearn.datasets import make_moons, make_circles, make_classification\n",
    "from strkernel.motifkernel import motifKernel\n",
    "from Bio.Seq import Seq\n",
    "import Bio.SeqIO as sio\n",
    "from sklearn.metrics import roc_curve, auc, precision_recall_curve, average_precision_score\n",
    "from IPython.display import Image\n",
    "import warnings\n",
    "warnings.filterwarnings('ignore')"
   ]
  },
  {
   "cell_type": "markdown",
   "metadata": {},
   "source": [
    "## Let's load the iris data and make a binary data based on versicolor versus others"
   ]
  },
  {
   "cell_type": "code",
   "execution_count": 2,
   "metadata": {},
   "outputs": [],
   "source": [
    "iris = datasets.load_iris()\n",
    "X = iris.data\n",
    "y = iris.target \n",
    "y[y == 2]=0    # Iris-Versicolor vs. others\n",
    "X_train, X_test, y_train, y_test = train_test_split(X, y, test_size=0.2, random_state=0)"
   ]
  },
  {
   "cell_type": "markdown",
   "metadata": {},
   "source": [
    "## Let's make a parameter grid for our grid search"
   ]
  },
  {
   "cell_type": "code",
   "execution_count": 3,
   "metadata": {},
   "outputs": [],
   "source": [
    "# C, gamma and degree space\n",
    "nc, ng , nd = (2, 3 , 5)\n",
    "c = np.linspace(0.1, 1000, nc)\n",
    "gamma = np.linspace(0.0001, 1, ng)\n",
    "degree = np.linspace(1, 6, nd)\n",
    "param_grid = [\n",
    "  {'C':c, 'kernel': ['rbf'],    'degree':[0], 'gamma': gamma,},    \n",
    "  {'C':c, 'kernel': ['linear'], 'degree':degree, 'gamma': ['auto']},  \n",
    "  {'C':c, 'kernel': ['poly'],   'degree':degree,  'gamma': gamma}, \n",
    "             ]\n",
    "global grid\n",
    "grid = ParameterGrid(param_grid)"
   ]
  },
  {
   "cell_type": "markdown",
   "metadata": {},
   "source": [
    "## The code for two different K-fold (k=5) validation. The inner k-fold will perform cross validation through each outer fold. Finally, we will have the best parameters and their accuracy over each outer fold. Then, we can select the best parameters for our whole train and test sets."
   ]
  },
  {
   "cell_type": "code",
   "execution_count": 4,
   "metadata": {},
   "outputs": [
    {
     "data": {
      "text/html": [
       "<div>\n",
       "<style scoped>\n",
       "    .dataframe tbody tr th:only-of-type {\n",
       "        vertical-align: middle;\n",
       "    }\n",
       "\n",
       "    .dataframe tbody tr th {\n",
       "        vertical-align: top;\n",
       "    }\n",
       "\n",
       "    .dataframe thead th {\n",
       "        text-align: right;\n",
       "    }\n",
       "</style>\n",
       "<table border=\"1\" class=\"dataframe\">\n",
       "  <thead>\n",
       "    <tr style=\"text-align: right;\">\n",
       "      <th></th>\n",
       "      <th>Parameters: C, Degree, gamma, Kernel</th>\n",
       "      <th>Accuracy</th>\n",
       "    </tr>\n",
       "  </thead>\n",
       "  <tbody>\n",
       "    <tr>\n",
       "      <td>0</td>\n",
       "      <td>(0.1, 2.25, 1.0, poly)</td>\n",
       "      <td>0.958333</td>\n",
       "    </tr>\n",
       "    <tr>\n",
       "      <td>1</td>\n",
       "      <td>(0.1, 4.75, 1.0, poly)</td>\n",
       "      <td>0.958333</td>\n",
       "    </tr>\n",
       "    <tr>\n",
       "      <td>2</td>\n",
       "      <td>(1000.0, 2.25, 0.50005, poly)</td>\n",
       "      <td>0.916667</td>\n",
       "    </tr>\n",
       "    <tr>\n",
       "      <td>3</td>\n",
       "      <td>(0.1, 4.75, 1.0, poly)</td>\n",
       "      <td>0.875000</td>\n",
       "    </tr>\n",
       "    <tr>\n",
       "      <td>4</td>\n",
       "      <td>(0.1, 2.25, 1.0, poly)</td>\n",
       "      <td>0.958333</td>\n",
       "    </tr>\n",
       "  </tbody>\n",
       "</table>\n",
       "</div>"
      ],
      "text/plain": [
       "  Parameters: C, Degree, gamma, Kernel  Accuracy\n",
       "0               (0.1, 2.25, 1.0, poly)  0.958333\n",
       "1               (0.1, 4.75, 1.0, poly)  0.958333\n",
       "2        (1000.0, 2.25, 0.50005, poly)  0.916667\n",
       "3               (0.1, 4.75, 1.0, poly)  0.875000\n",
       "4               (0.1, 2.25, 1.0, poly)  0.958333"
      ]
     },
     "execution_count": 4,
     "metadata": {},
     "output_type": "execute_result"
    }
   ],
   "source": [
    "skf = KFold(n_splits=5,random_state=10,shuffle=True )\n",
    "sc = StandardScaler()\n",
    "resultsDf=[]    \n",
    "for train_index, test_index in skf.split(X_train, y_train):\n",
    "    _X_train = X_train[train_index]\n",
    "    _y_train = y_train[train_index]\n",
    "    result={}\n",
    "    for g in grid:\n",
    "        skf = KFold(n_splits=5,random_state=10,shuffle=True )\n",
    "        acc = []\n",
    "        for train_index, valid_index in skf.split(_X_train, _y_train):\n",
    "            _X_train_ = _X_train[train_index]\n",
    "            _X_valid_ = _X_train[valid_index]\n",
    "            _y_train_ = _y_train[train_index]\n",
    "            _y_valid_ = _y_train[valid_index]\n",
    "            \n",
    "            if g['kernel'] ==['linear']:    \n",
    "                poly = PolynomialFeatures(degree = g['degree'])\n",
    "                _X_train_ = poly.fit_transform(_X_train_)\n",
    "                _X_valid_ = poly.fit_transform(_X_valid_)\n",
    "            _X_train_std_ = sc.fit_transform(_X_train_)\n",
    "            _X_valid_std_ = sc.transform(_X_valid_)\n",
    "            \n",
    "            clf = SVC( C=g['C'], gamma = g['gamma'], degree = g['degree'], kernel= g['kernel'])\n",
    "            clf.fit(_X_train_std_, _y_train_)\n",
    "            acc.append(clf.score(_X_valid_std_, _y_valid_))\n",
    "        \n",
    "        result[tuple(g.values())] = acc\n",
    "    result = pd.DataFrame.from_dict(result,columns=range(1,6), orient='index')\n",
    "    result = result.mean(axis=1)\n",
    "    model = result.idxmax()\n",
    "    \n",
    "    _X_test = X_train[test_index]\n",
    "    _y_test = y_train[test_index]\n",
    "    if model[3]=='linear':\n",
    "        poly = PolynomialFeatures(degree = model[1])\n",
    "        _X_train = poly.fit_transform(_X_train)\n",
    "        _X_test = poly.fit_transform(_X_test)\n",
    "    \n",
    "    _X_train_std = sc.fit_transform(_X_train)\n",
    "    _X_test_std = sc.transform(_X_test)\n",
    "    \n",
    "    clf = SVC( C=model[0], gamma = model[2], degree = model[1], kernel= model[3])\n",
    "    clf.fit(_X_train_std, _y_train)\n",
    "    acc = clf.score(_X_test_std, _y_test)\n",
    "    resultsDf.append((model,acc,))\n",
    "resultsDf = pd.DataFrame(data = resultsDf)\n",
    "resultsDf.columns =['Parameters: C, Degree, gamma, Kernel', 'Accuracy']\n",
    "resultsDf"
   ]
  },
  {
   "cell_type": "markdown",
   "metadata": {},
   "source": [
    "## Check the train and test set accuracy with best parameters (C=0.1, Degree=4.75, gamma=1,kernel=poly)"
   ]
  },
  {
   "cell_type": "code",
   "execution_count": 5,
   "metadata": {},
   "outputs": [
    {
     "name": "stdout",
     "output_type": "stream",
     "text": [
      "The train set accuracy with optimum parameters: 0.9666666666666667\n",
      "The test set accuracy with optimum parameters: 1.0\n"
     ]
    }
   ],
   "source": [
    "opt_kernel = 'poly'\n",
    "opt_degree = 4.75\n",
    "opt_C=0.1\n",
    "opt_gamma = 1 \n",
    "if opt_kernel=='linear':\n",
    "    poly = PolynomialFeatures(degree = opt_degree)\n",
    "    X_train = poly.fit_transform(X_train)\n",
    "    X_test = poly.fit_transform(X_test)\n",
    "\n",
    "X_train_std = sc.fit_transform(X_train)\n",
    "\n",
    "opt_clf=SVC( C=opt_C,kernel = opt_kernel, gamma= opt_gamma,degree=opt_degree)\n",
    "opt_clf.fit(X_train_std, y_train)\n",
    "print('The train set accuracy with optimum parameters:',opt_clf.score(X_train_std, y_train))\n",
    "\n",
    "X_test_std = sc.fit_transform(X_test)\n",
    "print('The test set accuracy with optimum parameters:',opt_clf.score(X_test_std, y_test))"
   ]
  },
  {
   "cell_type": "markdown",
   "metadata": {
    "colab_type": "text",
    "id": "cBCQhHD-m1KS"
   },
   "source": [
    "## Question 2 (10 pts)\n",
    "Write the explicit constraints (without using any vectorial notation, as a summation of single variables multiplied by a constant + bias term) of the Support Vector Machine to classify correctly iris dataset (Iris-Versicolor vs. others). In particular use 5 points in Iris-Versicolor, 2 points for iris-setosa, and 3 points for iris Virginia.\n",
    "Please show the points you selected and after the constraints"
   ]
  },
  {
   "cell_type": "code",
   "execution_count": 6,
   "metadata": {},
   "outputs": [
    {
     "data": {
      "text/plain": [
       "array([0, 0, 0, 0, 0, 0, 0, 0, 0, 0, 0, 0, 0, 0, 0, 0, 0, 0, 0, 0, 0, 0,\n",
       "       0, 0, 0, 0, 0, 0, 0, 0, 0, 0, 0, 0, 0, 0, 0, 0, 0, 0, 0, 0, 0, 0,\n",
       "       0, 0, 0, 0, 0, 0, 1, 1, 1, 1, 1, 1, 1, 1, 1, 1, 1, 1, 1, 1, 1, 1,\n",
       "       1, 1, 1, 1, 1, 1, 1, 1, 1, 1, 1, 1, 1, 1, 1, 1, 1, 1, 1, 1, 1, 1,\n",
       "       1, 1, 1, 1, 1, 1, 1, 1, 1, 1, 1, 1, 0, 0, 0, 0, 0, 0, 0, 0, 0, 0,\n",
       "       0, 0, 0, 0, 0, 0, 0, 0, 0, 0, 0, 0, 0, 0, 0, 0, 0, 0, 0, 0, 0, 0,\n",
       "       0, 0, 0, 0, 0, 0, 0, 0, 0, 0, 0, 0, 0, 0, 0, 0, 0, 0])"
      ]
     },
     "execution_count": 6,
     "metadata": {},
     "output_type": "execute_result"
    }
   ],
   "source": [
    "iris = datasets.load_iris()\n",
    "X = iris.data\n",
    "y = iris.target\n",
    "y[y==2]=0\n",
    "y"
   ]
  },
  {
   "cell_type": "markdown",
   "metadata": {},
   "source": [
    "## I selected 2 points from setosa"
   ]
  },
  {
   "cell_type": "code",
   "execution_count": 7,
   "metadata": {},
   "outputs": [
    {
     "data": {
      "text/plain": [
       "array([[5.1, 3.5, 1.4, 0.2],\n",
       "       [4.9, 3. , 1.4, 0.2]])"
      ]
     },
     "execution_count": 7,
     "metadata": {},
     "output_type": "execute_result"
    }
   ],
   "source": [
    "X[0:2]"
   ]
  },
  {
   "cell_type": "markdown",
   "metadata": {},
   "source": [
    "Its label is zero(0)"
   ]
  },
  {
   "cell_type": "code",
   "execution_count": 8,
   "metadata": {
    "scrolled": true
   },
   "outputs": [
    {
     "data": {
      "text/plain": [
       "array([0, 0])"
      ]
     },
     "execution_count": 8,
     "metadata": {},
     "output_type": "execute_result"
    }
   ],
   "source": [
    "y[0:2]"
   ]
  },
  {
   "cell_type": "markdown",
   "metadata": {},
   "source": [
    "## I selected 5 points from versicolor"
   ]
  },
  {
   "cell_type": "code",
   "execution_count": 9,
   "metadata": {},
   "outputs": [
    {
     "data": {
      "text/plain": [
       "array([[5.7, 2.8, 4.5, 1.3],\n",
       "       [6.3, 3.3, 4.7, 1.6],\n",
       "       [4.9, 2.4, 3.3, 1. ],\n",
       "       [6.6, 2.9, 4.6, 1.3],\n",
       "       [5.2, 2.7, 3.9, 1.4]])"
      ]
     },
     "execution_count": 9,
     "metadata": {},
     "output_type": "execute_result"
    }
   ],
   "source": [
    "X[55:60]"
   ]
  },
  {
   "cell_type": "markdown",
   "metadata": {},
   "source": [
    "Its label is one (1)"
   ]
  },
  {
   "cell_type": "code",
   "execution_count": 10,
   "metadata": {},
   "outputs": [
    {
     "data": {
      "text/plain": [
       "array([1, 1, 1, 1, 1])"
      ]
     },
     "execution_count": 10,
     "metadata": {},
     "output_type": "execute_result"
    }
   ],
   "source": [
    "y[56:61]"
   ]
  },
  {
   "cell_type": "markdown",
   "metadata": {},
   "source": [
    "## I selected 3 points from virginica"
   ]
  },
  {
   "cell_type": "code",
   "execution_count": 11,
   "metadata": {},
   "outputs": [
    {
     "data": {
      "text/plain": [
       "array([[6.3, 3.3, 6. , 2.5],\n",
       "       [5.8, 2.7, 5.1, 1.9],\n",
       "       [7.1, 3. , 5.9, 2.1]])"
      ]
     },
     "execution_count": 11,
     "metadata": {},
     "output_type": "execute_result"
    }
   ],
   "source": [
    "X[100:103]"
   ]
  },
  {
   "cell_type": "markdown",
   "metadata": {},
   "source": [
    "Its label is zero (0)"
   ]
  },
  {
   "cell_type": "code",
   "execution_count": 12,
   "metadata": {},
   "outputs": [
    {
     "data": {
      "text/plain": [
       "array([0, 0, 0])"
      ]
     },
     "execution_count": 12,
     "metadata": {},
     "output_type": "execute_result"
    }
   ],
   "source": [
    "y[100:103]"
   ]
  },
  {
   "cell_type": "code",
   "execution_count": 13,
   "metadata": {
    "scrolled": false
   },
   "outputs": [
    {
     "data": {
      "image/png": "[encoded data removed]",
      "text/plain": [
       "<IPython.core.display.Image object>"
      ]
     },
     "execution_count": 13,
     "metadata": {},
     "output_type": "execute_result"
    }
   ],
   "source": [
    "Image(filename='SVM-Definition.PNG')"
   ]
  },
  {
   "cell_type": "markdown",
   "metadata": {},
   "source": [
    "For SVM, we can define the hyperplanes H such that:\\\n",
    "$w.x_i+b\\geqslant+1$ when $y_i=+1$\\\n",
    "$w.x_i+b\\leqslant-1$ when $y_i=-1$\n",
    "\n",
    "$H_1$ and $H_2$ are the planes:\\\n",
    "$H_1: w.x_i+b = +1$\\\n",
    "$H_2: w.x_i+b = –1$\n",
    "\n",
    "The points on the planes $H_1$ and $H_2$ are the tips of the Support Vectors. The plane $H_0$ is the median in between, where $w.x_i+b =0$.\n",
    "\n",
    "$d+$ = the shortest distance to the closest positive point\n",
    "$d-$ = the shortest distance to the closest negative point\n",
    "\n",
    "The margin of a separating hyperplane is $d+ + d–$.\n",
    "\n",
    "So we can write the constraints for our points:\n",
    "\n",
    "The selected points from setosa and virginica from $H_2$ plane and the selected points from versicolor are from $H_1$ plane. Therefore, we can write the following equations as constraints.\n",
    "\n",
    "## The constraints for selected points\n",
    "\n",
    "## $w_1*5.1+w_2*3.5+w_3*1.4+w_4* 0.2+b \\leqslant -1$\n",
    "## $w_1*4.9+w_2*3+w_3*1.4+w_4* 0.2+b \\leqslant -1$\n",
    "## $w_1*6.3+w_2*3.3+w_3*6+w_4* 2.5+b \\leqslant -1$\n",
    "## $w_1*5.8+w_2*2.7+w_3*5.1+w_4* 1.9+b \\leqslant -1$\n",
    "## $w_1*7.1+w_2*3+w_3*5.9+w_4* 2.1+b \\leqslant -1$\n",
    "\n",
    "\n",
    "## $w_1*5.7+w_2*2.8+w_3*4.5+w_4* 1.3+b \\geqslant +1$\n",
    "## $w_1*6.3+w_2*3.3+w_3*4.7+w_4* 1.6+b \\geqslant +1$\n",
    "## $w_1*4.9+w_2*2.4+w_3*3.3+w_4* 1+b \\geqslant +1$\n",
    "## $w_1*6.6+w_2*2.9+w_3*4.6+w_4* 1.3+b \\geqslant +1$\n",
    "## $w_1*5.2+w_2*2.7+w_3*3.9+w_4* 1.4+b \\geqslant +1$ "
   ]
  },
  {
   "cell_type": "markdown",
   "metadata": {},
   "source": [
    "We can plot these points:"
   ]
  },
  {
   "cell_type": "code",
   "execution_count": 14,
   "metadata": {},
   "outputs": [
    {
     "data": {
      "image/png": "[encoded data removed]",
      "text/plain": [
       "<Figure size 432x288 with 1 Axes>"
      ]
     },
     "metadata": {
      "needs_background": "light"
     },
     "output_type": "display_data"
    }
   ],
   "source": [
    "A=np.vstack((X[0:2],X[55:60],X[100:103]))\n",
    "l=np.array([-1,-1,1,1,1,1,1,-1,-1,-1])\n",
    "plt.scatter(A[:, 0], A[:, 1], c=l, cmap='winter')\n",
    "plt.show()"
   ]
  },
  {
   "cell_type": "code",
   "execution_count": 15,
   "metadata": {},
   "outputs": [
    {
     "data": {
      "image/png": "[encoded data removed]",
      "text/plain": [
       "<Figure size 432x288 with 1 Axes>"
      ]
     },
     "metadata": {
      "needs_background": "light"
     },
     "output_type": "display_data"
    }
   ],
   "source": [
    "plt.scatter(A[:, 1], A[:, 3], c=l, cmap='winter')\n",
    "plt.show()"
   ]
  },
  {
   "cell_type": "markdown",
   "metadata": {},
   "source": [
    "As we can see, the separation of these points are not possible with linear separator."
   ]
  },
  {
   "cell_type": "markdown",
   "metadata": {
    "colab_type": "text",
    "id": "_mHkf54Sm1KT"
   },
   "source": [
    "# Extra Points ( 5pts)\n",
    "An unbalanced dataset (e.g. 95% vs 5%) can be problematic even in the training phase. The learned function can be trivial, e.g. always predicting one class.\n",
    "A possible solution can have a weight for each point in the way that making a mistake in the minority class will coun more w.r.t. the other. Please redefine the likelihood of the logistic regression to consider these weights for each point. Please compute the log-likelihood and its derivatives.\n",
    "In addition, add to the negative log-likelihood the norm of W (sum of the square of each component) and compute the derivatives. "
   ]
  },
  {
   "cell_type": "markdown",
   "metadata": {},
   "source": [
    "The coefficients of the logistic regression algorithm are fit using an optimization algorithm that minimizes the negative log likelihood (loss) for the model on the training dataset."
   ]
  },
  {
   "cell_type": "markdown",
   "metadata": {},
   "source": [
    "\\begin{equation}\n",
    "minimize \\sum_{i}^{n} - y^{(i)}  \\log(a^{(i)}) - (1-y^{(i)} )  \\log(1-a^{(i)})\\tag{1}\\\\\n",
    "\\end{equation}"
   ]
  },
  {
   "cell_type": "markdown",
   "metadata": {},
   "source": [
    "**Mathematical expression of the algorithm**:\n",
    "\n",
    "For one example $x^{(i)}$:\n",
    "$$z^{(i)} = w^T x^{(i)} + b \\tag{2}$$\n",
    "$$\\hat{y}^{(i)} = a^{(i)} = sigmoid(z^{(i)})\\tag{3}$$ \n",
    "$$ \\mathcal{L}(a^{(i)}, y^{(i)}) =  - y^{(i)}  \\log(a^{(i)}) - (1-y^{(i)} )  \\log(1-a^{(i)})\\tag{4}$$\n",
    "\n",
    "The cost is then computed by summing over all training examples:\n",
    "$$ J = \\frac{1}{m} \\sum_{i=1}^m \\mathcal{L}(a^{(i)}, y^{(i)})\\tag{5}$$\n",
    "\n",
    "**Key steps**:\n",
    "In this exercise, you will carry out the following steps: \n",
    "    - Initialize the parameters of the model\n",
    "    - Learn the parameters for the model by minimizing the cost  \n",
    "    - Use the learned parameters to make predictions (on the test set)\n",
    "    - Analyse the results and conclude"
   ]
  },
  {
   "cell_type": "markdown",
   "metadata": {},
   "source": [
    "This involves the repeated use of the model to make predictions followed by an adaptation of the coefficients in a direction that reduces the loss of the model. The calculation of the loss for a given set of coefficients can be modified to take the class balance into account. By default, the errors for each class may be considered to have the same weighting, say 1.0. These weightings can be adjusted based on the importance of each class."
   ]
  },
  {
   "cell_type": "markdown",
   "metadata": {},
   "source": [
    "\\begin{equation}\n",
    "minimize \\sum_{i}^{n} - W_0 y^{(i)}  \\log(a^{(i)}) - W_1(1-y^{(i)} )  \\log(1-a^{(i)})\\tag{6}\\\\\n",
    "\\end{equation}"
   ]
  },
  {
   "cell_type": "markdown",
   "metadata": {},
   "source": [
    "The weighting ($W_0$ and $W_1$) is applied to the loss so that smaller weight values result in a smaller error value, and in turn, less update to the model coefficients. A larger weight value results in a larger error calculation, and in turn, more update to the model coefficients.\n",
    "\n",
    "Small Weight: Less importance, less update to the model coefficients.\\\n",
    "Large Weight: More importance, more update to the model coefficients.\n",
    "\n",
    "As such, the modified version of logistic regression is referred to as Weighted Logistic Regression, Class-Weighted Logistic Regression or Cost-Sensitive Logistic Regression. The weightings are sometimes referred to as importance weightings. Although straightforward to implement, the challenge of weighted logistic regression is the choice of the weighting to use for each class."
   ]
  },
  {
   "cell_type": "markdown",
   "metadata": {},
   "source": [
    "### Forward and Backward propagation\n",
    "\n",
    "We can do the \"forward\" and \"backward\" propagation steps for learning the parameters.\n",
    "\n",
    "Forward Propagation:\n",
    "- You get X\n",
    "- You compute $A = \\sigma(w^T X + b) = (a^{(1)}, a^{(2)}, ..., a^{(m-1)}, a^{(m)})$\n",
    "- You calculate the cost function: $J = -\\frac{1}{m}\\sum_{i=1}^{m}y^{(i)}\\log(a^{(i)})+(1-y^{(i)})\\log(1-a^{(i)})$\n",
    "\n",
    "Here are the two formulas you will be using: \n",
    "\n",
    "$$ \\frac{\\partial J}{\\partial w} = \\frac{1}{m}X(A-Y)^T\\tag{7}$$\n",
    "$$ \\frac{\\partial J}{\\partial b} = \\frac{1}{m} \\sum_{i=1}^m (a^{(i)}-y^{(i)})\\tag{8}$$"
   ]
  },
  {
   "cell_type": "markdown",
   "metadata": {},
   "source": [
    "Now, when we want to use weights for classes:\n",
    "\n",
    "We can do the \"forward\" and \"backward\" propagation steps for learning the parameters.\n",
    "\n",
    "Forward Propagation:\n",
    "- We get X\n",
    "- We compute $A = \\sigma(w^T X + b) = (a^{(1)}, a^{(2)}, ..., a^{(m-1)}, a^{(m)})$\n",
    "- We calculate the cost function: $J = -\\frac{1}{m}\\sum_{i=1}^{m} W_0 y^{(i)}\\log(a^{(i)})+ W_1 (1-y^{(i)})\\log(1-a^{(i)})$\n",
    "\n",
    "Here are the four formulas you will be using: \n",
    "\n",
    "$$ \\frac{\\partial J}{\\partial w} = \\frac{1}{m}X(A-Y)^T\\tag{9}$$\n",
    "$$ \\frac{\\partial J}{\\partial b} = \\frac{1}{m} \\sum_{i=1}^m (a^{(i)}-y^{(i)})\\tag{10}$$\n",
    "$$ \\frac{\\partial J}{\\partial W_0} = -\\frac{1}{m}\\sum_{i=1}^{m} y^{(i)}\\log(a^{(i)})\\tag{11}$$\n",
    "$$ \\frac{\\partial J}{\\partial W_1} = \\frac{1}{m} \\sum_{i=1}^m (1-y^{(i)})\\log(1-a^{(i)})\\tag{12}$$"
   ]
  },
  {
   "cell_type": "markdown",
   "metadata": {},
   "source": [
    "Optimization\n",
    "- We have initialized your parameters.\n",
    "- we are also able to compute a cost function and its gradient.\n",
    "- Now, you want to update the parameters using **gradient descent**.\n",
    "The goal is to learn $w$, $W_0$, $W_1$ and $b$ by minimizing the cost function $J$. For a parameter $\\theta$, the update rule is $ \\theta = \\theta - \\alpha \\text{ } d\\theta$, where $\\alpha$ is the learning rate."
   ]
  },
  {
   "cell_type": "markdown",
   "metadata": {},
   "source": [
    "### We can add L2 regularization term into the cost function:"
   ]
  },
  {
   "cell_type": "markdown",
   "metadata": {},
   "source": [
    "\\begin{equation}\n",
    "J = -\\frac{1}{m}[\\sum_{i=1}^{m} W_0 y^{(i)}\\log(a^{(i)})+ W_1 (1-y^{(i)})\\log(1-a^{(i)})]+\\lambda ||w||_2^2\\\\\n",
    "\\end{equation}\n"
   ]
  },
  {
   "cell_type": "markdown",
   "metadata": {},
   "source": [
    "Here are the four formulas you will be using for gradient descent: \n",
    "\n",
    "$$ \\frac{\\partial J}{\\partial w} = \\frac{1}{m}X(A-Y)^T+2\\lambda w\\tag{13}$$\n",
    "$$ \\frac{\\partial J}{\\partial b} = \\frac{1}{m} \\sum_{i=1}^m (a^{(i)}-y^{(i)})\\tag{14}$$\n",
    "$$ \\frac{\\partial J}{\\partial W_0} = -\\frac{1}{m}\\sum_{i=1}^{m} y^{(i)}\\log(a^{(i)})\\tag{15}$$\n",
    "$$ \\frac{\\partial J}{\\partial W_1} = \\frac{1}{m} \\sum_{i=1}^m (1-y^{(i)})\\log(1-a^{(i)})\\tag{16}$$"
   ]
  },
  {
   "cell_type": "markdown",
   "metadata": {},
   "source": [
    "## We can test the weighting method on the restrict unbalanced dataset (99% vs 1%):"
   ]
  },
  {
   "cell_type": "code",
   "execution_count": 16,
   "metadata": {},
   "outputs": [],
   "source": [
    "X, y = make_classification(n_samples=10000, n_features=2, n_redundant=0,n_clusters_per_class=1, weights=[0.99], flip_y=0, random_state=2)"
   ]
  },
  {
   "cell_type": "code",
   "execution_count": 17,
   "metadata": {},
   "outputs": [
    {
     "name": "stdout",
     "output_type": "stream",
     "text": [
      "Counter({0: 9900, 1: 100})\n"
     ]
    }
   ],
   "source": [
    "counter = Counter(y)\n",
    "print(counter)"
   ]
  },
  {
   "cell_type": "code",
   "execution_count": 18,
   "metadata": {},
   "outputs": [
    {
     "data": {
      "image/png": "[encoded data removed]",
      "text/plain": [
       "<Figure size 432x288 with 1 Axes>"
      ]
     },
     "metadata": {
      "needs_background": "light"
     },
     "output_type": "display_data"
    }
   ],
   "source": [
    "for label, _ in counter.items():\n",
    "    row_ix = where(y == label)[0]\n",
    "    plt.scatter(X[row_ix, 0], X[row_ix, 1], label=str(label))\n",
    "plt.legend()\n",
    "plt.show()"
   ]
  },
  {
   "cell_type": "code",
   "execution_count": 19,
   "metadata": {},
   "outputs": [
    {
     "name": "stdout",
     "output_type": "stream",
     "text": [
      "Mean ROC AUC: 0.985\n"
     ]
    }
   ],
   "source": [
    "# define model\n",
    "model = LogisticRegression(solver='lbfgs')\n",
    "# define evaluation procedure\n",
    "cv = RepeatedStratifiedKFold(n_splits=10, n_repeats=3, random_state=1)\n",
    "# evaluate model\n",
    "scores = cross_val_score(model, X, y, scoring='roc_auc', cv=cv, n_jobs=-1)\n",
    "# summarize performance\n",
    "print('Mean ROC AUC: %.3f' % mean(scores))"
   ]
  },
  {
   "cell_type": "markdown",
   "metadata": {},
   "source": [
    "This provides a baseline for comparison for any modifications performed to the standard logistic regression algorithm."
   ]
  },
  {
   "cell_type": "markdown",
   "metadata": {},
   "source": [
    "### Weighted Logistic Regression with Scikit-Learn"
   ]
  },
  {
   "cell_type": "markdown",
   "metadata": {},
   "source": [
    "The scikit-learn Python machine learning library provides an implementation of logistic regression that supports class weighting.\n",
    "\n",
    "The LogisticRegression class provides the class_weight argument that can be specified as a model hyperparameter. The class_weight is a dictionary that defines each class label (e.g. 0 and 1) and the weighting to apply in the calculation of the negative log likelihood when fitting the model.\n",
    "\n",
    "For example, a 1 to 1 weighting for each class 0 and 1 can be defined. The class weighing can be defined multiple ways; for example:\n",
    "\n",
    "Domain expertise, determined by talking to subject matter experts.\n",
    "Tuning, determined by a hyperparameter search such as a grid search.\n",
    "Heuristic, specified using a general best practice.\n",
    "A best practice for using the class weighting is to use the inverse of the class distribution present in the training dataset.\n",
    "\n",
    "For example, the class distribution of the test dataset is a 1:100 ratio for the minority class to the majority class. The inversion of this ratio could be used with 1 for the majority class and 100 for the minority class. \n",
    "We can evaluate the logistic regression algorithm with a class weighting using the same evaluation procedure defined in the previous section.\n",
    "\n",
    "We would expect that the class-weighted version of logistic regression to perform better than the standard version of logistic regression without any class weighting."
   ]
  },
  {
   "cell_type": "code",
   "execution_count": 20,
   "metadata": {},
   "outputs": [
    {
     "name": "stdout",
     "output_type": "stream",
     "text": [
      "Mean ROC AUC: 0.989\n"
     ]
    }
   ],
   "source": [
    "# define model\n",
    "weights = {0:0.01, 1:1.0}\n",
    "model = LogisticRegression(solver='lbfgs', class_weight=weights)\n",
    "# define evaluation procedure\n",
    "cv = RepeatedStratifiedKFold(n_splits=10, n_repeats=3, random_state=1)\n",
    "# evaluate model\n",
    "scores = cross_val_score(model, X, y, scoring='roc_auc', cv=cv, n_jobs=-1)\n",
    "# summarize performance\n",
    "print('Mean ROC AUC: %.3f' % mean(scores))"
   ]
  },
  {
   "cell_type": "markdown",
   "metadata": {},
   "source": [
    "Running the example prepares the synthetic imbalanced classification dataset, then evaluates the class-weighted version of logistic regression using repeated cross-validation.\n",
    "\n",
    "The mean ROC AUC score is reported, in this case showing a better score than the unweighted version of logistic regression, 0.989 as compared to 0.985."
   ]
  },
  {
   "cell_type": "markdown",
   "metadata": {},
   "source": [
    "The scikit-learn library provides an implementation of the best practice heuristic for the class weighting.\n",
    "\n",
    "It is implemented via the compute_class_weight() function and is calculated as:\n",
    "\n",
    "n_samples / (n_classes * n_samples_with_class)\n",
    "We can test this calculation manually on our dataset. For example, we have 10,000 examples in the dataset, 9900 in class 0, and 100 in class 1.\n",
    "\n",
    "The weighting for class 0 is calculated as:\n",
    "\n",
    "weighting = n_samples / (n_classes * n_samples_with_class)\\\n",
    "weighting = 10000 / (2 * 9900)\\\n",
    "weighting = 10000 / 19800\\\n",
    "weighting = 0.05\n",
    "\n",
    "The weighting for class 1 is calculated as:\n",
    "\n",
    "weighting = n_samples / (n_classes * n_samples_with_class)\\\n",
    "weighting = 10000 / (2 * 100)\\\n",
    "weighting = 10000 / 200\\\n",
    "weighting = 50\n",
    "\n",
    "We can confirm these calculations by calling the compute_class_weight() function and specifying the class_weight as “balanced.” For example:"
   ]
  },
  {
   "cell_type": "code",
   "execution_count": 21,
   "metadata": {},
   "outputs": [
    {
     "name": "stdout",
     "output_type": "stream",
     "text": [
      "[ 0.50505051 50.        ]\n"
     ]
    }
   ],
   "source": [
    "weighting = compute_class_weight('balanced', [0,1], y)\n",
    "print(weighting)"
   ]
  },
  {
   "cell_type": "markdown",
   "metadata": {},
   "source": [
    "Running the example, we can see that we can achieve a weighting of about 0.5 for class 0 and a weighting of 50 for class 1.\n",
    "\n",
    "These values match our manual calculation. The values also match our heuristic calculation above for inverting the ratio of the class distribution in the training dataset; for example:\n",
    "\n",
    "0.5:50 == 1:100"
   ]
  }
 ],
 "metadata": {
  "colab": {
   "name": "PS3.ipynb",
   "provenance": [],
   "version": "0.3.2"
  },
  "kernelspec": {
   "display_name": "Python 3",
   "language": "python",
   "name": "python3"
  },
  "language_info": {
   "codemirror_mode": {
    "name": "ipython",
    "version": 3
   },
   "file_extension": ".py",
   "mimetype": "text/x-python",
   "name": "python",
   "nbconvert_exporter": "python",
   "pygments_lexer": "ipython3",
   "version": "3.8.3"
  },
  "toc": {
   "base_numbering": 1,
   "nav_menu": {},
   "number_sections": true,
   "sideBar": true,
   "skip_h1_title": false,
   "title_cell": "Table of Contents",
   "title_sidebar": "Contents",
   "toc_cell": false,
   "toc_position": {},
   "toc_section_display": true,
   "toc_window_display": false
  },
  "varInspector": {
   "cols": {
    "lenName": 16,
    "lenType": 16,
    "lenVar": 40
   },
   "kernels_config": {
    "python": {
     "delete_cmd_postfix": "",
     "delete_cmd_prefix": "del ",
     "library": "var_list.py",
     "varRefreshCmd": "print(var_dic_list())"
    },
    "r": {
     "delete_cmd_postfix": ") ",
     "delete_cmd_prefix": "rm(",
     "library": "var_list.r",
     "varRefreshCmd": "cat(var_dic_list()) "
    }
   },
   "types_to_exclude": [
    "module",
    "function",
    "builtin_function_or_method",
    "instance",
    "_Feature"
   ],
   "window_display": false
  }
 },
 "nbformat": 4,
 "nbformat_minor": 1
}
