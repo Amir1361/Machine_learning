{
 "cells": [
  {
   "cell_type": "code",
   "execution_count": 1,
   "metadata": {},
   "outputs": [],
   "source": [
    "import pandas as pd\n",
    "from sklearn.model_selection import train_test_split , StratifiedKFold,KFold\n",
    "from sklearn import model_selection\n",
    "from sklearn.ensemble import AdaBoostClassifier\n",
    "from sklearn.ensemble import AdaBoostClassifier\n",
    "from sklearn.datasets import make_classification\n",
    "from sklearn.linear_model import LogisticRegression\n",
    "from sklearn.model_selection import train_test_split\n",
    "from sklearn import metrics\n",
    "from sklearn.cluster import DBSCAN,KMeans\n",
    "from sklearn.preprocessing import StandardScaler\n",
    "import numpy as np\n",
    "import matplotlib.pyplot as plt\n",
    "from sklearn import datasets\n",
    "from mpl_toolkits.mplot3d import Axes3D\n",
    "from sklearn.decomposition import PCA\n",
    "from sklearn.metrics import silhouette_score\n",
    "from sklearn.metrics.cluster import homogeneity_score\n",
    "from sklearn.metrics.cluster import completeness_score\n",
    "from matplotlib.colors import ListedColormap\n",
    "from sklearn.preprocessing import LabelEncoder\n",
    "import scipy.spatial\n",
    "import warnings\n",
    "warnings.filterwarnings('ignore')"
   ]
  },
  {
   "cell_type": "markdown",
   "metadata": {
    "colab_type": "text",
    "id": "D9_7-Wkkm1KR"
   },
   "source": [
    "# Question 1 (15 pts)\n",
    "\n",
    "Implement the ADABoost algorithm by using the scikit implementation of the logistic regression. Evaluate the result on a real dataset between a single logistic regression and AdaBoost (use K-Fold cross validation).\n",
    "\n",
    "This links can be helpful: http://rob.schapire.net/papers/explaining-adaboost.pdf and https://en.wikipedia.org/wiki/AdaBoost\n"
   ]
  },
  {
   "cell_type": "markdown",
   "metadata": {},
   "source": [
    "# Loading dataset"
   ]
  },
  {
   "cell_type": "code",
   "execution_count": 2,
   "metadata": {},
   "outputs": [],
   "source": [
    "breast_cancer = datasets.load_breast_cancer()\n",
    "X = pd.DataFrame(breast_cancer.data, columns=breast_cancer.feature_names)\n",
    "y = pd.Categorical.from_codes(breast_cancer.target, breast_cancer.target_names)\n",
    "labelencoder_Y = LabelEncoder()\n",
    "Y = labelencoder_Y.fit_transform(y)\n",
    "X_train, X_test, y_train, y_test = train_test_split(np.array(X), np.array(Y), test_size=0.3,random_state=10)"
   ]
  },
  {
   "cell_type": "markdown",
   "metadata": {},
   "source": [
    "# AdaBoost from scratch"
   ]
  },
  {
   "cell_type": "markdown",
   "metadata": {},
   "source": [
    "## Definition of AdaBoost function which can compare the result of logistic regreesion and AdaBoost in each fold and finally reports the cross validation accuracy for both logistic regression and AdaBoost models"
   ]
  },
  {
   "cell_type": "code",
   "execution_count": 3,
   "metadata": {},
   "outputs": [],
   "source": [
    "def AdaBoost_scratch(X_train,y_train, M=10, learning_rate = 1):\n",
    "    #Initialization of utility variables\n",
    "    \n",
    "    skf = KFold(n_splits=5,random_state=10,shuffle=True )\n",
    "    acc_train = []\n",
    "    acc_valid =[]\n",
    "    acc_valid_lg = [] \n",
    "    k=1\n",
    "    #estimator_weight_list_tot=[]\n",
    "    for train_index, valid_index in skf.split(X_train, y_train):\n",
    "        _X_train_ = X_train[train_index]\n",
    "        _X_valid_ = X_train[valid_index]\n",
    "        _y_train_ = y_train[train_index]\n",
    "        _y_valid_ = y_train[valid_index]\n",
    "        \n",
    "        lg_valid=LogisticRegression()\n",
    "        clf = LogisticRegression(random_state=10).fit(_X_train_, _y_train_)\n",
    "        print('Accuracy for logistic regression for fold',k,'is:',clf.score(_X_valid_, _y_valid_))\n",
    "        acc_valid_lg.append(clf.score(_X_valid_, _y_valid_))\n",
    "        \n",
    "        N1 = len(_y_valid_)\n",
    "        estimator_list, y_predict_list_train,y_predict_list_valid, estimator_error_list, estimator_weight_list, sample_weight_list = [], [],[],[],[],[]\n",
    "        N2= len(_y_train_)\n",
    "        #Initialize the sample weights\n",
    "        sample_weight = np.ones(N2) / N2\n",
    "        sample_weight_list.append(sample_weight.copy())\n",
    "        #estimator_weight_list=[]\n",
    "        \n",
    "        #For m = 1 to M\n",
    "        for m in range(M):\n",
    "            #Fit a classifier\n",
    "            estimator = LogisticRegression()\n",
    "            estimator.fit(_X_train_, _y_train_, sample_weight=sample_weight)\n",
    "            y_predict_train = estimator.predict(_X_train_)\n",
    "            y_predict_valid = estimator.predict(_X_valid_)\n",
    "\n",
    "            #Misclassifications\n",
    "            \n",
    "            incorrect = (y_predict_train != _y_train_)\n",
    "\n",
    "            #Estimator error\n",
    "            estimator_error = np.mean( np.average(incorrect, weights=sample_weight, axis=0))\n",
    "\n",
    "            #Boost estimator weights\n",
    "            estimator_weight =  learning_rate * np.log((1. - estimator_error) / estimator_error)\n",
    "\n",
    "            #Boost sample weights\n",
    "            sample_weight *= np.exp(estimator_weight * incorrect * ((sample_weight > 0) | (estimator_weight < 0)))\n",
    "\n",
    "            #Save iteration values\n",
    "            estimator_list.append(estimator)\n",
    "            y_predict_list_train.append(y_predict_train.copy())\n",
    "            y_predict_list_valid.append(y_predict_valid.copy())\n",
    "            estimator_error_list.append(estimator_error.copy())\n",
    "            estimator_weight_list.append(estimator_weight.copy())\n",
    "            sample_weight_list.append(sample_weight.copy())\n",
    "        \n",
    "        \n",
    "        \n",
    "\n",
    "\n",
    "        #Convert to np array for convenience   \n",
    "        estimator_list = np.asarray(estimator_list)\n",
    "        y_predict_list_train = np.asarray(y_predict_list_train)\n",
    "        y_predict_list_valid = np.asarray(y_predict_list_valid)\n",
    "        estimator_error_list = np.asarray(estimator_error_list)\n",
    "        estimator_weight_list = np.asarray(estimator_weight_list)\n",
    "        sample_weight_list = np.asarray(sample_weight_list)\n",
    "        \n",
    "\n",
    "        #Predictions\n",
    "        preds_valid = (np.array([np.sign((y_predict_list_valid[:,point] * estimator_weight_list).sum()) for point in range(N1)]))\n",
    "        \n",
    "        print('Accuracy for AdaBoost for fold',k,'is:',(preds_valid == _y_valid_).sum() / N1)\n",
    "        k=k+1\n",
    "        acc_valid.append((preds_valid == _y_valid_).sum() / N1)\n",
    "        preds_train = (np.array([np.sign((y_predict_list_train[:,point] * estimator_weight_list).sum()) for point in range(N2)]))\n",
    "        acc_train.append((preds_train == _y_train_).sum() / N2)\n",
    "        print('--------------------------------------------------------------------------')\n",
    "    #y_predict    \n",
    "    #preds = (np.array([np.sign((y_predict_list[:,point] * estimator_weight_list).sum()) for point in range(N)]))\n",
    "    \n",
    "\n",
    "        \n",
    "        #print('Accuracy = ', (preds == y).sum() / N)\n",
    "    print('------------------------------------------------------------------------------------------------')\n",
    "    print('$Accuracy for AdaBoost model$')\n",
    "    print(\"Accuracy of Training data AdaBoost:\",np.mean(acc_train))\n",
    "    print(\"Accuracy of K-fold cross validation AdaBoost:\",np.mean(acc_valid))\n",
    "    print('------------------------------------------------------------------------------')\n",
    "    print('$Accuracy for Logistic Regression model$')\n",
    "    print(\"Accuracy of K-fold cross validation Logistic regression:\",np.mean(acc_valid_lg))\n",
    "    return estimator_list, estimator_weight_list, sample_weight_list"
   ]
  },
  {
   "cell_type": "code",
   "execution_count": 4,
   "metadata": {
    "scrolled": false
   },
   "outputs": [
    {
     "name": "stdout",
     "output_type": "stream",
     "text": [
      "Accuracy for logistic regression for fold 1 is: 0.8875\n",
      "Accuracy for AdaBoost for fold 1 is: 0.875\n",
      "--------------------------------------------------------------------------\n",
      "Accuracy for logistic regression for fold 2 is: 0.9875\n",
      "Accuracy for AdaBoost for fold 2 is: 0.95\n",
      "--------------------------------------------------------------------------\n",
      "Accuracy for logistic regression for fold 3 is: 0.9375\n",
      "Accuracy for AdaBoost for fold 3 is: 0.925\n",
      "--------------------------------------------------------------------------\n",
      "Accuracy for logistic regression for fold 4 is: 0.9620253164556962\n",
      "Accuracy for AdaBoost for fold 4 is: 0.9873417721518988\n",
      "--------------------------------------------------------------------------\n",
      "Accuracy for logistic regression for fold 5 is: 0.9367088607594937\n",
      "Accuracy for AdaBoost for fold 5 is: 0.9240506329113924\n",
      "--------------------------------------------------------------------------\n",
      "------------------------------------------------------------------------------------------------\n",
      "$Accuracy for AdaBoost model$\n",
      "Accuracy of Training data AdaBoost: 0.9309004160012618\n",
      "Accuracy of K-fold cross validation AdaBoost: 0.9322784810126581\n",
      "------------------------------------------------------------------------------\n",
      "$Accuracy for Logistic Regression model$\n",
      "Accuracy of K-fold cross validation Logistic regression: 0.9422468354430379\n"
     ]
    }
   ],
   "source": [
    "M=4\n",
    "estimator_list, estimator_weight_list, sample_weight_list=AdaBoost_scratch(X_train,y_train, M, learning_rate = 0.05)"
   ]
  },
  {
   "cell_type": "markdown",
   "metadata": {},
   "source": [
    "# Accuracy of AdaBoost model for testing data"
   ]
  },
  {
   "cell_type": "code",
   "execution_count": 5,
   "metadata": {},
   "outputs": [
    {
     "name": "stdout",
     "output_type": "stream",
     "text": [
      "Accuracy of Testing data: 0.9415204678362573\n"
     ]
    }
   ],
   "source": [
    "y_predict=[]\n",
    "for i in range(0,M):\n",
    "    y_predict.append(estimator_list[i].predict(X_test))\n",
    "y_predict_list_test = np.asarray(y_predict)\n",
    "preds_test = (np.array([np.sign((y_predict_list_test[:,point] * estimator_weight_list).sum()) for point in range(len(y_test))]))\n",
    "acc_test=(preds_test == y_test).sum() / len(y_test)\n",
    "print(\"Accuracy of Testing data:\",acc_test)"
   ]
  },
  {
   "cell_type": "markdown",
   "metadata": {},
   "source": [
    "# We can run AdaBoost Sklearn to compare the result with our code"
   ]
  },
  {
   "cell_type": "code",
   "execution_count": 6,
   "metadata": {
    "scrolled": false
   },
   "outputs": [
    {
     "name": "stdout",
     "output_type": "stream",
     "text": [
      "0.934620253164557\n"
     ]
    }
   ],
   "source": [
    "kfold = model_selection.KFold(n_splits=5, random_state=10)\n",
    "lg=LogisticRegression()\n",
    "clf=AdaBoostClassifier(base_estimator=lg,n_estimators=10,learning_rate=1)\n",
    "results = model_selection.cross_val_score(clf, X_train, y_train, cv=kfold)\n",
    "\n",
    "#clf.fit(X, y)\n",
    "print(results.mean())"
   ]
  },
  {
   "cell_type": "code",
   "execution_count": 7,
   "metadata": {},
   "outputs": [],
   "source": [
    "model = clf.fit(X_train, y_train)\n",
    "y_pred_train=model.predict(X_train)\n",
    "y_pred = model.predict(X_test)"
   ]
  },
  {
   "cell_type": "code",
   "execution_count": 8,
   "metadata": {},
   "outputs": [
    {
     "data": {
      "text/plain": [
       "0.9590643274853801"
      ]
     },
     "execution_count": 8,
     "metadata": {},
     "output_type": "execute_result"
    }
   ],
   "source": [
    "y_predtion = model_selection.cross_val_predict(clf,X_test,y_test,cv=kfold)\n",
    "metrics.accuracy_score(y_test, y_predtion)"
   ]
  },
  {
   "cell_type": "code",
   "execution_count": 9,
   "metadata": {},
   "outputs": [
    {
     "name": "stdout",
     "output_type": "stream",
     "text": [
      "Accuracy: 0.9415204678362573\n"
     ]
    }
   ],
   "source": [
    "print(\"Accuracy:\",metrics.accuracy_score(y_test, y_pred))"
   ]
  },
  {
   "cell_type": "markdown",
   "metadata": {},
   "source": [
    "## *We can see the accuracy for testing data for Sklearn AdaBoost model is same as our AdaBoost model*"
   ]
  },
  {
   "cell_type": "markdown",
   "metadata": {},
   "source": [
    "# Now we can run logistic regression model to compare it with AdaBoost model"
   ]
  },
  {
   "cell_type": "markdown",
   "metadata": {},
   "source": [
    "#  Accuracy of Logistic model for testing data"
   ]
  },
  {
   "cell_type": "code",
   "execution_count": 10,
   "metadata": {},
   "outputs": [
    {
     "name": "stdout",
     "output_type": "stream",
     "text": [
      "0.9321202531645569\n"
     ]
    }
   ],
   "source": [
    "kfold = model_selection.KFold(n_splits=5, random_state=10)\n",
    "lg=LogisticRegression()\n",
    "results_lg = model_selection.cross_val_score(lg, X_train, y_train, cv=kfold)\n",
    "print(results_lg.mean())"
   ]
  },
  {
   "cell_type": "code",
   "execution_count": 11,
   "metadata": {
    "scrolled": true
   },
   "outputs": [
    {
     "name": "stdout",
     "output_type": "stream",
     "text": [
      "Accuracy train: 0.9547738693467337\n",
      "Accuracy test: 0.9473684210526315\n"
     ]
    }
   ],
   "source": [
    "model_lg = lg.fit(X_train, y_train)\n",
    "y_pred_train=model_lg.predict(X_train)\n",
    "y_pred = model_lg.predict(X_test)\n",
    "print(\"Accuracy train:\",metrics.accuracy_score(y_train, y_pred_train))\n",
    "print(\"Accuracy test:\",metrics.accuracy_score(y_test, y_pred))"
   ]
  },
  {
   "cell_type": "markdown",
   "metadata": {},
   "source": [
    "# As we can see the accuracy of logistic regression model for our testing data is almost same as the AdaBoost model"
   ]
  },
  {
   "cell_type": "markdown",
   "metadata": {},
   "source": [
    "# We can run the whole procedure for another dataset"
   ]
  },
  {
   "cell_type": "code",
   "execution_count": 12,
   "metadata": {},
   "outputs": [],
   "source": [
    "X, y = make_classification(n_samples=1000, n_features=2,n_informative=2, n_redundant=0,random_state=0, shuffle=False)\n",
    "X_train, X_test, y_train, y_test = train_test_split(X, y, test_size=0.2,random_state=20)"
   ]
  },
  {
   "cell_type": "code",
   "execution_count": 13,
   "metadata": {},
   "outputs": [
    {
     "name": "stdout",
     "output_type": "stream",
     "text": [
      "Accuracy for logistic regression for fold 1 is: 0.9625\n",
      "Accuracy for AdaBoost for fold 1 is: 0.9625\n",
      "--------------------------------------------------------------------------\n",
      "Accuracy for logistic regression for fold 2 is: 0.9375\n",
      "Accuracy for AdaBoost for fold 2 is: 0.93125\n",
      "--------------------------------------------------------------------------\n",
      "Accuracy for logistic regression for fold 3 is: 0.9625\n",
      "Accuracy for AdaBoost for fold 3 is: 0.94375\n",
      "--------------------------------------------------------------------------\n",
      "Accuracy for logistic regression for fold 4 is: 0.9375\n",
      "Accuracy for AdaBoost for fold 4 is: 0.95\n",
      "--------------------------------------------------------------------------\n",
      "Accuracy for logistic regression for fold 5 is: 0.95\n",
      "Accuracy for AdaBoost for fold 5 is: 0.95\n",
      "--------------------------------------------------------------------------\n",
      "------------------------------------------------------------------------------------------------\n",
      "$Accuracy for AdaBoost model$\n",
      "Accuracy of Training data AdaBoost: 0.9478125000000001\n",
      "Accuracy of K-fold cross validation AdaBoost: 0.9475\n",
      "------------------------------------------------------------------------------\n",
      "$Accuracy for Logistic Regression model$\n",
      "Accuracy of K-fold cross validation Logistic regression: 0.95\n"
     ]
    }
   ],
   "source": [
    "M=25\n",
    "estimator_list, estimator_weight_list, sample_weight_list=AdaBoost_scratch(X_train,y_train, M, learning_rate = 0.001)"
   ]
  },
  {
   "cell_type": "code",
   "execution_count": 14,
   "metadata": {},
   "outputs": [
    {
     "name": "stdout",
     "output_type": "stream",
     "text": [
      "Accuracy of Testing data: 0.935\n"
     ]
    }
   ],
   "source": [
    "y_predict=[]\n",
    "for i in range(0,M):\n",
    "    y_predict.append(estimator_list[i].predict(X_test))\n",
    "y_predict_list_test = np.asarray(y_predict)\n",
    "preds_test = (np.array([np.sign((y_predict_list_test[:,point] * estimator_weight_list).sum()) for point in range(len(y_test))]))\n",
    "acc_test=(preds_test == y_test).sum() / len(y_test)\n",
    "print(\"Accuracy of Testing data:\",acc_test)"
   ]
  },
  {
   "cell_type": "code",
   "execution_count": 15,
   "metadata": {},
   "outputs": [
    {
     "name": "stdout",
     "output_type": "stream",
     "text": [
      "Accuracy train: 0.9525\n",
      "Accuracy test: 0.945\n"
     ]
    }
   ],
   "source": [
    "lg=LogisticRegression()\n",
    "model_lg = lg.fit(X_train, y_train)\n",
    "y_pred_train=model_lg.predict(X_train)\n",
    "y_pred = model_lg.predict(X_test)\n",
    "print(\"Accuracy train:\",metrics.accuracy_score(y_train, y_pred_train))\n",
    "print(\"Accuracy test:\",metrics.accuracy_score(y_test, y_pred))"
   ]
  },
  {
   "cell_type": "markdown",
   "metadata": {},
   "source": [
    "# Again, we can see that both models can predict with high accuracy"
   ]
  }
 ],
 "metadata": {
  "colab": {
   "name": "PS4.ipynb",
   "provenance": [],
   "version": "0.3.2"
  },
  "kernelspec": {
   "display_name": "Python 3",
   "language": "python",
   "name": "python3"
  },
  "language_info": {
   "codemirror_mode": {
    "name": "ipython",
    "version": 3
   },
   "file_extension": ".py",
   "mimetype": "text/x-python",
   "name": "python",
   "nbconvert_exporter": "python",
   "pygments_lexer": "ipython3",
   "version": "3.8.3"
  },
  "toc": {
   "base_numbering": 1,
   "nav_menu": {},
   "number_sections": true,
   "sideBar": true,
   "skip_h1_title": false,
   "title_cell": "Table of Contents",
   "title_sidebar": "Contents",
   "toc_cell": false,
   "toc_position": {},
   "toc_section_display": true,
   "toc_window_display": false
  },
  "varInspector": {
   "cols": {
    "lenName": 16,
    "lenType": 16,
    "lenVar": 40
   },
   "kernels_config": {
    "python": {
     "delete_cmd_postfix": "",
     "delete_cmd_prefix": "del ",
     "library": "var_list.py",
     "varRefreshCmd": "print(var_dic_list())"
    },
    "r": {
     "delete_cmd_postfix": ") ",
     "delete_cmd_prefix": "rm(",
     "library": "var_list.r",
     "varRefreshCmd": "cat(var_dic_list()) "
    }
   },
   "types_to_exclude": [
    "module",
    "function",
    "builtin_function_or_method",
    "instance",
    "_Feature"
   ],
   "window_display": false
  }
 },
 "nbformat": 4,
 "nbformat_minor": 1
}
